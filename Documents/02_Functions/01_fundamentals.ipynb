{
 "cells": [
  {
   "attachments": {},
   "cell_type": "markdown",
   "metadata": {},
   "source": [
    "# Fonksiyon\n",
    "* parametre tanımı\n",
    "* return\n",
    "* yield\n",
    "* lambda\n",
    "* recursion\n",
    "* global nonlocal"
   ]
  },
  {
   "cell_type": "code",
   "execution_count": 3,
   "metadata": {},
   "outputs": [
    {
     "name": "stdout",
     "output_type": "stream",
     "text": [
      "5\n"
     ]
    }
   ],
   "source": [
    "def fonk(a,b): # tanımlama\n",
    "    print(a+b)\n",
    "# fonk() # ÇALIŞMAZ\n",
    "fonk(2,3)"
   ]
  },
  {
   "attachments": {},
   "cell_type": "markdown",
   "metadata": {},
   "source": [
    "### parametre tanımı"
   ]
  },
  {
   "attachments": {},
   "cell_type": "markdown",
   "metadata": {},
   "source": [
    "##### I.yöntem"
   ]
  },
  {
   "cell_type": "code",
   "execution_count": 4,
   "metadata": {},
   "outputs": [
    {
     "name": "stdout",
     "output_type": "stream",
     "text": [
      "5\n"
     ]
    }
   ],
   "source": [
    "def fonk(a,b): # I. Yöntem\n",
    "    print(a+b)\n",
    "fonk(2,3)"
   ]
  },
  {
   "cell_type": "code",
   "execution_count": 9,
   "metadata": {},
   "outputs": [
    {
     "name": "stdout",
     "output_type": "stream",
     "text": [
      "5\n",
      "10\n"
     ]
    }
   ],
   "source": [
    "def fonk(a,b,c=0): # I. Yöntem\n",
    "    print(a+b+c)\n",
    "fonk(2,3) # c parametresi varsayılan değeri 0 dikkate alınacak\n",
    "fonk(2,3,5) # c parametresi yerine 5 sayısı dikkate alınacak"
   ]
  },
  {
   "cell_type": "code",
   "execution_count": 11,
   "metadata": {},
   "outputs": [
    {
     "name": "stdout",
     "output_type": "stream",
     "text": [
      "5\n",
      "10\n"
     ]
    }
   ],
   "source": [
    "def fonk(a,b,c=0,d=0): # I. Yöntem\n",
    "    print(a+b+c)\n",
    "fonk(2,3) # c parametresi varsayılan değeri 0 dikkate alınacak\n",
    "fonk(2,3,5) # c parametresi yerine 5 sayısı dikkate alınacak"
   ]
  },
  {
   "cell_type": "code",
   "execution_count": 18,
   "metadata": {},
   "outputs": [
    {
     "ename": "SyntaxError",
     "evalue": "positional argument follows keyword argument (674500932.py, line 3)",
     "output_type": "error",
     "traceback": [
      "\u001b[0;36m  Cell \u001b[0;32mIn[18], line 3\u001b[0;36m\u001b[0m\n\u001b[0;31m    fonk(a=2,3,2,3,e=3,f=4)\u001b[0m\n\u001b[0m             ^\u001b[0m\n\u001b[0;31mSyntaxError\u001b[0m\u001b[0;31m:\u001b[0m positional argument follows keyword argument\n"
     ]
    }
   ],
   "source": [
    "def fonk(a,b,/,c,d,*,e,f): # 3.8 versiyonu ile birlikte geldi\n",
    "    print(a,b,c,d,e,f)\n",
    "fonk(2,3,2,3,e=3,f=4)"
   ]
  },
  {
   "attachments": {},
   "cell_type": "markdown",
   "metadata": {},
   "source": [
    "### Mors Operator :="
   ]
  },
  {
   "cell_type": "code",
   "execution_count": 22,
   "metadata": {},
   "outputs": [
    {
     "name": "stdout",
     "output_type": "stream",
     "text": [
      "List is too long (6 elements, expected <= 10)\n"
     ]
    }
   ],
   "source": [
    "a = \"Python\"\n",
    "if (n := len(a)) > 5:\n",
    "    print(f\"List is too long ({n} elements, expected <= 10)\")"
   ]
  },
  {
   "attachments": {},
   "cell_type": "markdown",
   "metadata": {},
   "source": [
    "##### II. yöntem"
   ]
  },
  {
   "cell_type": "code",
   "execution_count": 23,
   "metadata": {},
   "outputs": [
    {
     "name": "stdout",
     "output_type": "stream",
     "text": [
      "[1, 2, 3, 4]\n"
     ]
    }
   ],
   "source": [
    "liste = [1,2,3,4]\n",
    "print(liste)"
   ]
  },
  {
   "cell_type": "code",
   "execution_count": 24,
   "metadata": {},
   "outputs": [
    {
     "name": "stdout",
     "output_type": "stream",
     "text": [
      "1 2 3 4\n"
     ]
    }
   ],
   "source": [
    "liste = [1,2,3,4]\n",
    "print(*liste)"
   ]
  },
  {
   "cell_type": "code",
   "execution_count": 25,
   "metadata": {},
   "outputs": [
    {
     "name": "stdout",
     "output_type": "stream",
     "text": [
      "<class 'tuple'>\n",
      "<class 'tuple'>\n",
      "<class 'tuple'>\n"
     ]
    }
   ],
   "source": [
    "def fonk(*args): # args ifadesi bir gelenektir. \n",
    "    print(type(args)) # tuple\n",
    "fonk()\n",
    "fonk(1,2,3,)\n",
    "fonk(1,2,3,4,5,6)"
   ]
  },
  {
   "attachments": {},
   "cell_type": "markdown",
   "metadata": {},
   "source": [
    "##### III. yöntem"
   ]
  },
  {
   "cell_type": "code",
   "execution_count": 28,
   "metadata": {},
   "outputs": [
    {
     "name": "stdout",
     "output_type": "stream",
     "text": [
      "<class 'dict'>\n",
      "<class 'dict'>\n",
      "Selam Kordsa\n",
      "<class 'dict'>\n",
      "Nasılsın Dijital\n",
      "<class 'dict'>\n",
      "Selam Kordsa\n",
      "Nasılsın Dijital\n"
     ]
    }
   ],
   "source": [
    "def fonk(**kwargs):\n",
    "    print(type(kwargs)) # dict\n",
    "    for key,value in kwargs.items():\n",
    "        if key == \"Selam\":\n",
    "            print(\"Selam\",value)\n",
    "        if key == \"Nasil\":\n",
    "            print(\"Nasılsın\",value)\n",
    "fonk()\n",
    "fonk(Selam=\"Kordsa\")\n",
    "fonk(Nasil=\"Dijital\")\n",
    "fonk(Selam=\"Kordsa\",Nasil=\"Dijital\")"
   ]
  },
  {
   "attachments": {},
   "cell_type": "markdown",
   "metadata": {},
   "source": [
    "##### 3. yöntemin bir arada kullanılması"
   ]
  },
  {
   "cell_type": "code",
   "execution_count": 30,
   "metadata": {},
   "outputs": [
    {
     "name": "stdout",
     "output_type": "stream",
     "text": [
      "1 2\n",
      "(3, 4, 5, 6, 7, 8, 9, 10)\n",
      "{'selam': 'kordsa'}\n"
     ]
    }
   ],
   "source": [
    "def fonk(a,b,*args,**kwargs):\n",
    "    print(a,b)\n",
    "    print(args)\n",
    "    print(kwargs)\n",
    "fonk(1,2,3,4,5,6,7,8,9,10,selam=\"kordsa\")"
   ]
  },
  {
   "attachments": {},
   "cell_type": "markdown",
   "metadata": {},
   "source": [
    "#### return "
   ]
  },
  {
   "cell_type": "code",
   "execution_count": 31,
   "metadata": {},
   "outputs": [
    {
     "name": "stdout",
     "output_type": "stream",
     "text": [
      "5\n"
     ]
    }
   ],
   "source": [
    "def topla(a,b):\n",
    "    return a+b\n",
    "    print(\"ÇALIŞMAZ\")\n",
    "sonuc = topla(2,3)\n",
    "print(sonuc)"
   ]
  },
  {
   "cell_type": "code",
   "execution_count": 32,
   "metadata": {},
   "outputs": [
    {
     "name": "stdout",
     "output_type": "stream",
     "text": [
      "22\n"
     ]
    }
   ],
   "source": [
    "sonuc = topla(topla(2,3),topla(8,9))\n",
    "print(sonuc)"
   ]
  },
  {
   "cell_type": "code",
   "execution_count": 36,
   "metadata": {},
   "outputs": [
    {
     "name": "stdout",
     "output_type": "stream",
     "text": [
      "(7, 8, 15)\n",
      "7+8=15\n"
     ]
    }
   ],
   "source": [
    "def topla(a,b):\n",
    "    return a,b,a+b # birden fazla değer dönerse tuple veri tipinde döner\n",
    "sonuc = topla(7,8)\n",
    "print(sonuc)\n",
    "print(f\"{sonuc[0]}+{sonuc[1]}={sonuc[2]}\") # string interpolation"
   ]
  },
  {
   "attachments": {},
   "cell_type": "markdown",
   "metadata": {},
   "source": [
    "#### yield"
   ]
  },
  {
   "cell_type": "code",
   "execution_count": 38,
   "metadata": {},
   "outputs": [
    {
     "name": "stdout",
     "output_type": "stream",
     "text": [
      "0\n",
      "1\n",
      "2\n",
      "3\n",
      "4\n",
      "5\n"
     ]
    }
   ],
   "source": [
    "def fonk(a):\n",
    "    adim = 0\n",
    "    while adim < a:\n",
    "        yield adim\n",
    "        adim += 1\n",
    "for i in fonk(6):\n",
    "    print(i)"
   ]
  },
  {
   "cell_type": "code",
   "execution_count": 40,
   "metadata": {},
   "outputs": [
    {
     "name": "stdout",
     "output_type": "stream",
     "text": [
      "<generator object fonk at 0x7f9f82f7deb0>\n"
     ]
    }
   ],
   "source": [
    "print(fonk(6))"
   ]
  },
  {
   "attachments": {},
   "cell_type": "markdown",
   "metadata": {},
   "source": [
    "#### lambda => Tek Satırlık Fonksiyon"
   ]
  },
  {
   "cell_type": "code",
   "execution_count": 42,
   "metadata": {},
   "outputs": [
    {
     "name": "stdout",
     "output_type": "stream",
     "text": [
      "5\n"
     ]
    }
   ],
   "source": [
    "def fonk(a,b):\n",
    "    return a+b\n",
    "print(fonk(2,3))"
   ]
  },
  {
   "cell_type": "code",
   "execution_count": 44,
   "metadata": {},
   "outputs": [
    {
     "name": "stdout",
     "output_type": "stream",
     "text": [
      "5\n"
     ]
    }
   ],
   "source": [
    "fonk = lambda a,b:a+b\n",
    "print(fonk(2,3))"
   ]
  },
  {
   "cell_type": "code",
   "execution_count": 48,
   "metadata": {},
   "outputs": [
    {
     "name": "stdout",
     "output_type": "stream",
     "text": [
      "25+5=30\n",
      "50-23=27\n",
      "5*5=25\n",
      "İyi Günler Dileriz\n"
     ]
    }
   ],
   "source": [
    "topla = lambda a,b:(a,b,a+b,\"+\")\n",
    "cikarma = lambda a,b:(a,b,a-b,\"-\")\n",
    "bolme = lambda a,b:(a,b,a/b,\"/\")\n",
    "carpma = lambda a,b:(a,b,a*b,\"*\")\n",
    "liste = [topla,cikarma,bolme,carpma]\n",
    "#         0.     1       2      3\n",
    "menu = \"\"\"\n",
    "1-Toplama\n",
    "2-Çıkarma\n",
    "3-Bölme\n",
    "4-Çarpma\n",
    "5-Çıkış\n",
    "İşlem Seçiniz:\"\"\"\n",
    "anahtar = 1\n",
    "while anahtar == 1:\n",
    "    giris = input(menu)\n",
    "    if giris and giris.isdigit():\n",
    "        giris = int(giris)\n",
    "        if giris-1 in range(len(liste)):# 0 1 2 3\n",
    "            a = int(input(\"1. Sayıyı Giriniz:\"))\n",
    "            b = int(input(\"2. Sayıyı Giriniz:\"))\n",
    "            sonuc = liste[giris-1](a,b)\n",
    "#            topla(a,b) \n",
    "            print(f\"{sonuc[0]}{sonuc[3]}{sonuc[1]}={sonuc[2]}\")\n",
    "        elif giris == 5:\n",
    "            anahtar = 0\n",
    "else:\n",
    "    print(\"İyi Günler Dileriz\")\n"
   ]
  },
  {
   "attachments": {},
   "cell_type": "markdown",
   "metadata": {},
   "source": [
    "#### recursion"
   ]
  },
  {
   "cell_type": "code",
   "execution_count": 51,
   "metadata": {},
   "outputs": [
    {
     "name": "stdout",
     "output_type": "stream",
     "text": [
      "KORDSA\n",
      "ORDSA\n",
      "RDSA\n",
      "DSA\n",
      "SA\n",
      "A\n"
     ]
    }
   ],
   "source": [
    "def fonk(metin):\n",
    "    if len(metin) == 1:\n",
    "        print(metin)\n",
    "    else:\n",
    "        print(metin)\n",
    "        return fonk(metin[1:])\n",
    "fonk(\"KORDSA\")"
   ]
  },
  {
   "cell_type": "code",
   "execution_count": 52,
   "metadata": {},
   "outputs": [
    {
     "data": {
      "text/plain": [
       "120"
      ]
     },
     "execution_count": 52,
     "metadata": {},
     "output_type": "execute_result"
    }
   ],
   "source": [
    "def faktoriyel(n):\n",
    "    if n == 1:\n",
    "        return 1\n",
    "    else:\n",
    "        return faktoriyel(n-1)*n\n",
    "faktoriyel(5)"
   ]
  },
  {
   "cell_type": "code",
   "execution_count": 5,
   "metadata": {},
   "outputs": [
    {
     "data": {
      "text/plain": [
       "3000"
      ]
     },
     "execution_count": 5,
     "metadata": {},
     "output_type": "execute_result"
    }
   ],
   "source": [
    "import sys\n",
    "sys.getrecursionlimit()"
   ]
  },
  {
   "cell_type": "code",
   "execution_count": 6,
   "metadata": {},
   "outputs": [
    {
     "data": {
      "text/plain": [
       "60000"
      ]
     },
     "execution_count": 6,
     "metadata": {},
     "output_type": "execute_result"
    }
   ],
   "source": [
    "sys.setrecursionlimit(60000)\n",
    "sys.getrecursionlimit()"
   ]
  },
  {
   "attachments": {},
   "cell_type": "markdown",
   "metadata": {},
   "source": [
    "#### global \n",
    "#### nonlocal"
   ]
  },
  {
   "cell_type": "code",
   "execution_count": 7,
   "metadata": {},
   "outputs": [
    {
     "name": "stdout",
     "output_type": "stream",
     "text": [
      "Fonksiyon çalışmadan önce 3\n",
      "5\n",
      "Fonksiyon çalıştıktan sonra  3\n"
     ]
    }
   ],
   "source": [
    "a = 3\n",
    "def fonk(b):\n",
    "    a = 2 # local  \n",
    "    return a+b\n",
    "print(\"Fonksiyon çalışmadan önce\",a)\n",
    "print(fonk(3))\n",
    "print(\"Fonksiyon çalıştıktan sonra \",a)"
   ]
  },
  {
   "cell_type": "code",
   "execution_count": 8,
   "metadata": {},
   "outputs": [
    {
     "name": "stdout",
     "output_type": "stream",
     "text": [
      "Fonksiyon çalışmadan önce 3\n",
      "5\n",
      "Fonksiyon çalıştıktan sonra  2\n"
     ]
    }
   ],
   "source": [
    "a = 3 # global\n",
    "def fonk(b):\n",
    "    global a\n",
    "    a = 2 # global \n",
    "    return a+b\n",
    "print(\"Fonksiyon çalışmadan önce\",a)\n",
    "print(fonk(3))\n",
    "print(\"Fonksiyon çalıştıktan sonra \",a)"
   ]
  },
  {
   "cell_type": "code",
   "execution_count": 9,
   "metadata": {},
   "outputs": [
    {
     "name": "stdout",
     "output_type": "stream",
     "text": [
      "Fonksiyon çalışmadan önce 3\n",
      "Fonksiyonun (icFonk) içinden gelen  4\n",
      "icFonk çalıştıktan sonra 2\n",
      "5\n",
      "Fonksiyon çalıştıktan sonra  2\n"
     ]
    }
   ],
   "source": [
    "a = 3 # global\n",
    "def fonk(b):\n",
    "    global a\n",
    "    a = 2 # global\n",
    "    def icFonk(c):\n",
    "        a = 4 # local\n",
    "        print(\"Fonksiyonun (icFonk) içinden gelen \",a)\n",
    "    icFonk(3)\n",
    "    print(\"icFonk çalıştıktan sonra\",a)\n",
    "    return a+b\n",
    "print(\"Fonksiyon çalışmadan önce\",a)\n",
    "print(fonk(3))\n",
    "print(\"Fonksiyon çalıştıktan sonra \",a)"
   ]
  },
  {
   "cell_type": "code",
   "execution_count": 11,
   "metadata": {},
   "outputs": [
    {
     "name": "stdout",
     "output_type": "stream",
     "text": [
      "1. Fonksiyon çalışmadan önce 3\n",
      "2. Fonksiyonun (icFonk) içinden gelen  4\n",
      "3. icFonk çalıştıktan sonra 2\n",
      "5\n",
      "4. Fonksiyon çalıştıktan sonra  4\n"
     ]
    }
   ],
   "source": [
    "a = 3 # global\n",
    "def fonk(b):\n",
    "    a = 2 # local\n",
    "    def icFonk(c):\n",
    "        global a \n",
    "        a = 4 # global\n",
    "        print(\"2. Fonksiyonun (icFonk) içinden gelen \",a)\n",
    "    icFonk(3)\n",
    "    print(\"3. icFonk çalıştıktan sonra\",a)\n",
    "    return a+b\n",
    "print(\"1. Fonksiyon çalışmadan önce\",a)\n",
    "print(fonk(3))\n",
    "print(\"4. Fonksiyon çalıştıktan sonra \",a)"
   ]
  },
  {
   "cell_type": "code",
   "execution_count": 12,
   "metadata": {},
   "outputs": [
    {
     "name": "stdout",
     "output_type": "stream",
     "text": [
      "1. Fonksiyon çalışmadan önce 3\n",
      "2. Fonksiyonun (icFonk) içinden gelen  4\n",
      "3. icFonk çalıştıktan sonra 4\n",
      "7\n",
      "4. Fonksiyon çalıştıktan sonra  3\n"
     ]
    }
   ],
   "source": [
    "a = 3 # global\n",
    "def fonk(b):\n",
    "    a = 2 # nonlocal\n",
    "    def icFonk(c):\n",
    "        nonlocal a\n",
    "        a = 4 # nonlocal\n",
    "        print(\"2. Fonksiyonun (icFonk) içinden gelen \",a)\n",
    "    icFonk(3)\n",
    "    print(\"3. icFonk çalıştıktan sonra\",a)\n",
    "    return a+b\n",
    "print(\"1. Fonksiyon çalışmadan önce\",a)\n",
    "print(fonk(3))\n",
    "print(\"4. Fonksiyon çalıştıktan sonra \",a)"
   ]
  },
  {
   "cell_type": "code",
   "execution_count": 15,
   "metadata": {},
   "outputs": [
    {
     "name": "stdout",
     "output_type": "stream",
     "text": [
      "1. Fonksiyon çalışmadan önce [1, 2, 3]\n",
      "3\n",
      "4. Fonksiyon çalıştıktan sonra  [1, 2, 4000]\n"
     ]
    }
   ],
   "source": [
    "liste = [1,2,3]\n",
    "def fonk(b):\n",
    "    liste[2] = 4000\n",
    "    return b\n",
    "print(\"1. Fonksiyon çalışmadan önce\",liste)\n",
    "print(fonk(3))\n",
    "print(\"4. Fonksiyon çalıştıktan sonra \",liste)"
   ]
  },
  {
   "cell_type": "code",
   "execution_count": null,
   "metadata": {},
   "outputs": [],
   "source": []
  }
 ],
 "metadata": {
  "kernelspec": {
   "display_name": "Python 3",
   "language": "python",
   "name": "python3"
  },
  "language_info": {
   "codemirror_mode": {
    "name": "ipython",
    "version": 3
   },
   "file_extension": ".py",
   "mimetype": "text/x-python",
   "name": "python",
   "nbconvert_exporter": "python",
   "pygments_lexer": "ipython3",
   "version": "3.8.16"
  },
  "orig_nbformat": 4
 },
 "nbformat": 4,
 "nbformat_minor": 2
}
