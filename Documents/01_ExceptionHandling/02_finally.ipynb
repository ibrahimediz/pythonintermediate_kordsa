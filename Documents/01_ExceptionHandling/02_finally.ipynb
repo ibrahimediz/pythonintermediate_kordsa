{
 "cells": [
  {
   "attachments": {},
   "cell_type": "markdown",
   "metadata": {},
   "source": [
    "# finally"
   ]
  },
  {
   "cell_type": "code",
   "execution_count": 2,
   "metadata": {},
   "outputs": [
    {
     "name": "stdout",
     "output_type": "stream",
     "text": [
      "2.5\n",
      "Bağlantıyı Kapatıyorum\n",
      "Program Çalışmaya Devam Eder\n"
     ]
    }
   ],
   "source": [
    "try: # dene\n",
    "    a = int(input(\"1. Sayıyı Giriniz:\"))\n",
    "    b = int(input(\"2. Sayıyı Giriniz:\"))\n",
    "    print(a/b)\n",
    "except (ZeroDivisionError,ValueError) :\n",
    "    print(\"Bir sayıyı sıfıra bölmekte ki amacın nedir ya da sayı hatası\")\n",
    "except Exception:\n",
    "    print(\"Genel Hata\")\n",
    "finally: # try bloğu düzgün çalışsa da excep bloğune girse de her zaman çalışır\n",
    "    print(\"Bağlantıyı Kapatıyorum\")\n",
    "    \n",
    "print(\"Program Çalışmaya Devam Eder\")"
   ]
  },
  {
   "cell_type": "code",
   "execution_count": null,
   "metadata": {},
   "outputs": [],
   "source": []
  }
 ],
 "metadata": {
  "kernelspec": {
   "display_name": "Python 3",
   "language": "python",
   "name": "python3"
  },
  "language_info": {
   "codemirror_mode": {
    "name": "ipython",
    "version": 3
   },
   "file_extension": ".py",
   "mimetype": "text/x-python",
   "name": "python",
   "nbconvert_exporter": "python",
   "pygments_lexer": "ipython3",
   "version": "3.8.16"
  },
  "orig_nbformat": 4
 },
 "nbformat": 4,
 "nbformat_minor": 2
}
