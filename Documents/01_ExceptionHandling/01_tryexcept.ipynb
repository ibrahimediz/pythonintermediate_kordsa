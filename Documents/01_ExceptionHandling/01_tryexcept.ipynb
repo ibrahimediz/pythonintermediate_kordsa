{
 "cells": [
  {
   "attachments": {},
   "cell_type": "markdown",
   "metadata": {},
   "source": [
    "# Exception Handling\n",
    "* try\n",
    "* except\n",
    "* raise"
   ]
  },
  {
   "cell_type": "code",
   "execution_count": 11,
   "metadata": {},
   "outputs": [
    {
     "ename": "ZeroDivisionError",
     "evalue": "division by zero",
     "output_type": "error",
     "traceback": [
      "\u001b[0;31m---------------------------------------------------------------------------\u001b[0m",
      "\u001b[0;31mZeroDivisionError\u001b[0m                         Traceback (most recent call last)",
      "Cell \u001b[0;32mIn[11], line 3\u001b[0m\n\u001b[1;32m      1\u001b[0m a \u001b[39m=\u001b[39m \u001b[39mint\u001b[39m(\u001b[39minput\u001b[39m(\u001b[39m\"\u001b[39m\u001b[39m1. Sayıyı Giriniz:\u001b[39m\u001b[39m\"\u001b[39m))\n\u001b[1;32m      2\u001b[0m b \u001b[39m=\u001b[39m \u001b[39mint\u001b[39m(\u001b[39minput\u001b[39m(\u001b[39m\"\u001b[39m\u001b[39m2. Sayıyı Giriniz:\u001b[39m\u001b[39m\"\u001b[39m))\n\u001b[0;32m----> 3\u001b[0m \u001b[39mprint\u001b[39m(a\u001b[39m/\u001b[39;49mb)\n\u001b[1;32m      4\u001b[0m \u001b[39mprint\u001b[39m(\u001b[39m\"\u001b[39m\u001b[39mProgram Çalışmaya Devam Eder\u001b[39m\u001b[39m\"\u001b[39m)\n",
      "\u001b[0;31mZeroDivisionError\u001b[0m: division by zero"
     ]
    }
   ],
   "source": [
    "a = int(input(\"1. Sayıyı Giriniz:\"))\n",
    "b = int(input(\"2. Sayıyı Giriniz:\"))\n",
    "print(a/b)\n",
    "print(\"Program Çalışmaya Devam Eder\")"
   ]
  },
  {
   "cell_type": "code",
   "execution_count": 7,
   "metadata": {},
   "outputs": [
    {
     "name": "stdout",
     "output_type": "stream",
     "text": [
      "Hata Verdi\n",
      "Program Çalışmaya Devam Eder\n"
     ]
    }
   ],
   "source": [
    "try: # dene\n",
    "    a = int(input(\"1. Sayıyı Giriniz:\"))\n",
    "    b = int(input(\"2. Sayıyı Giriniz:\"))\n",
    "    print(a/b)\n",
    "except: # istisna\n",
    "    print(\"Hata Verdi\")\n",
    "print(\"Program Çalışmaya Devam Eder\")"
   ]
  },
  {
   "cell_type": "code",
   "execution_count": 9,
   "metadata": {},
   "outputs": [
    {
     "name": "stdout",
     "output_type": "stream",
     "text": [
      "Hata Verdi, Hata Mesajı: division by zero\n",
      "Program Çalışmaya Devam Eder\n"
     ]
    }
   ],
   "source": [
    "try: # dene\n",
    "    a = int(input(\"1. Sayıyı Giriniz:\"))\n",
    "    b = int(input(\"2. Sayıyı Giriniz:\"))\n",
    "    print(a/b)\n",
    "except Exception as hata: # istisna\n",
    "    print(\"Hata Verdi, Hata Mesajı:\",hata)\n",
    "print(\"Program Çalışmaya Devam Eder\")"
   ]
  },
  {
   "cell_type": "code",
   "execution_count": 13,
   "metadata": {},
   "outputs": [
    {
     "name": "stdout",
     "output_type": "stream",
     "text": [
      "Bir sayıyı sıfıra bölmekte ki amacın nedir\n",
      "Program Çalışmaya Devam Eder\n"
     ]
    }
   ],
   "source": [
    "try: # dene\n",
    "    a = int(input(\"1. Sayıyı Giriniz:\"))\n",
    "    b = int(input(\"2. Sayıyı Giriniz:\"))\n",
    "    print(a/b)\n",
    "except ZeroDivisionError:\n",
    "    print(\"Bir sayıyı sıfıra bölmekte ki amacın nedir\")\n",
    "except ValueError:\n",
    "    print(\"Sayı Girmeni istemiştik çok zor bir şey olmasa gerek\")\n",
    "except Exception:\n",
    "    print(\"Genel Hata\")\n",
    "    \n",
    "print(\"Program Çalışmaya Devam Eder\")"
   ]
  },
  {
   "cell_type": "code",
   "execution_count": 17,
   "metadata": {},
   "outputs": [
    {
     "name": "stdout",
     "output_type": "stream",
     "text": [
      "Bir sayıyı sıfıra bölmekte ki amacın nedir ya da sayı hatası\n",
      "Program Çalışmaya Devam Eder\n"
     ]
    }
   ],
   "source": [
    "try: # dene\n",
    "    a = int(input(\"1. Sayıyı Giriniz:\"))\n",
    "    b = int(input(\"2. Sayıyı Giriniz:\"))\n",
    "    print(a/b)\n",
    "except (ZeroDivisionError,ValueError) :\n",
    "    print(\"Bir sayıyı sıfıra bölmekte ki amacın nedir ya da sayı hatası\")\n",
    "except Exception:\n",
    "    print(\"Genel Hata\")\n",
    "    \n",
    "print(\"Program Çalışmaya Devam Eder\")"
   ]
  },
  {
   "attachments": {},
   "cell_type": "markdown",
   "metadata": {},
   "source": [
    "Exception Hierarchy\n",
    "https://blog.airbrake.io/blog/python/class-hierarchy"
   ]
  },
  {
   "cell_type": "code",
   "execution_count": 18,
   "metadata": {},
   "outputs": [
    {
     "name": "stdout",
     "output_type": "stream",
     "text": [
      "Genel Hata\n",
      "Program Çalışmaya Devam Eder\n"
     ]
    }
   ],
   "source": [
    "try: # dene\n",
    "    a = int(input(\"1. Sayıyı Giriniz:\"))\n",
    "    b = int(input(\"2. Sayıyı Giriniz:\"))\n",
    "    print(a/b)\n",
    "except Exception: # alt bloklara gidilmez çünkü exception tüm hataların atası olarak hepsini kapsar\n",
    "    print(\"Genel Hata\")\n",
    "except ZeroDivisionError:\n",
    "    print(\"Bir sayıyı sıfıra bölmekte ki amacın nedir\")\n",
    "except ValueError:\n",
    "    print(\"Sayı Girmeni istemiştik çok zor bir şey olmasa gerek\")\n",
    "\n",
    "    \n",
    "print(\"Program Çalışmaya Devam Eder\")"
   ]
  },
  {
   "cell_type": "code",
   "execution_count": 19,
   "metadata": {},
   "outputs": [
    {
     "name": "stdout",
     "output_type": "stream",
     "text": [
      "Bir sayıyı sıfıra bölmekte ki amacın nedir 1C\n",
      "Program Çalışmaya Devam Eder\n"
     ]
    }
   ],
   "source": [
    "try: # dene\n",
    "    adim = \"1A\" \n",
    "    a = int(input(\"1. Sayıyı Giriniz:\"))\n",
    "    adim = \"1B\"\n",
    "    b = int(input(\"2. Sayıyı Giriniz:\"))\n",
    "    adim = \"1C\"\n",
    "    print(a/b)\n",
    "    adim = \"1D\"\n",
    "except ZeroDivisionError:\n",
    "    print(\"Bir sayıyı sıfıra bölmekte ki amacın nedir\",adim)\n",
    "except ValueError:\n",
    "    print(\"Sayı Girmeni istemiştik çok zor bir şey olmasa gerek\",adim)\n",
    "except Exception:\n",
    "    print(\"Genel Hata\",adim)\n",
    "\n",
    "\n",
    "    \n",
    "print(\"Program Çalışmaya Devam Eder\")"
   ]
  },
  {
   "cell_type": "code",
   "execution_count": 21,
   "metadata": {},
   "outputs": [
    {
     "name": "stdout",
     "output_type": "stream",
     "text": [
      "Sıfıra Bölme Hatası\n",
      "Program Çalışmaya Devam Eder\n"
     ]
    }
   ],
   "source": [
    "try: # dene\n",
    "    a = int(input(\"1. Sayıyı Giriniz:\"))\n",
    "    b = int(input(\"2. Sayıyı Giriniz:\"))\n",
    "except ValueError:\n",
    "    print(\"değer hatası\")\n",
    "else:\n",
    "    try:\n",
    "        print(a/b)\n",
    "    except ZeroDivisionError:\n",
    "        print(\"Sıfıra Bölme Hatası\")\n",
    "    \n",
    "print(\"Program Çalışmaya Devam Eder\")"
   ]
  },
  {
   "attachments": {},
   "cell_type": "markdown",
   "metadata": {},
   "source": [
    "### raise"
   ]
  },
  {
   "cell_type": "code",
   "execution_count": 25,
   "metadata": {},
   "outputs": [
    {
     "name": "stdout",
     "output_type": "stream",
     "text": [
      "Genel Hata Sıfır Girildi a\n",
      "Program Çalışmaya Devam Eder\n"
     ]
    }
   ],
   "source": [
    "try: # dene\n",
    "    a = int(input(\"1. Sayıyı Giriniz:\"))\n",
    "    if a == 0: # not a şeklinde de yazılabilir\n",
    "        raise ZeroDivisionError(\"Sıfır Girildi a\") \n",
    "    b = int(input(\"2. Sayıyı Giriniz:\"))\n",
    "    print(a/b)\n",
    "except (ZeroDivisionError,ValueError) as hata :\n",
    "    print(\"Bir sayıyı sıfıra bölmekte ki amacın nedir ya da sayı hatası:\",hata)\n",
    "except Exception:\n",
    "    print(\"Genel Hata\")\n",
    "    \n",
    "print(\"Program Çalışmaya Devam Eder\")"
   ]
  },
  {
   "cell_type": "code",
   "execution_count": 27,
   "metadata": {},
   "outputs": [
    {
     "name": "stdout",
     "output_type": "stream",
     "text": [
      "Hata Mesajı: FONKSİYONDAN Sıfır Girildi\n"
     ]
    }
   ],
   "source": [
    "def bolme(a,b):\n",
    "    if a == 0 or b == 0:\n",
    "        raise Exception(\"FONKSİYONDAN Sıfır Girildi\")\n",
    "    else:\n",
    "        return a/b\n",
    "try:\n",
    "    a = int(input(\"1. Sayıyı Giriniz:\"))\n",
    "    b = int(input(\"2. Sayıyı Giriniz:\"))\n",
    "    bolme(a,b)\n",
    "except Exception as hata:\n",
    "    print(\"Hata Mesajı:\",hata)"
   ]
  },
  {
   "cell_type": "code",
   "execution_count": null,
   "metadata": {},
   "outputs": [],
   "source": []
  }
 ],
 "metadata": {
  "kernelspec": {
   "display_name": "Python 3",
   "language": "python",
   "name": "python3"
  },
  "language_info": {
   "codemirror_mode": {
    "name": "ipython",
    "version": 3
   },
   "file_extension": ".py",
   "mimetype": "text/x-python",
   "name": "python",
   "nbconvert_exporter": "python",
   "pygments_lexer": "ipython3",
   "version": "3.8.16"
  },
  "orig_nbformat": 4
 },
 "nbformat": 4,
 "nbformat_minor": 2
}
